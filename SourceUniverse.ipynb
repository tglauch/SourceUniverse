{
 "cells": [
  {
   "cell_type": "code",
   "execution_count": 5,
   "metadata": {},
   "outputs": [],
   "source": [
    "%matplotlib inline\n",
    "import numpy as np\n",
    "from cosmolopy.distance import diff_comoving_volume, luminosity_distance, comoving_volume, set_omega_k_0\n",
    "from fancy_plot import *\n",
    "import inspect \n",
    "import scipy\n",
    "from scipy.stats import lognorm, norm\n",
    "import time\n",
    "import sys\n",
    "from scipy.interpolate import UnivariateSpline\n",
    "from scipy.optimize import curve_fit\n",
    "\n",
    "\n",
    "# Conversion Factors\n",
    "Mpc_to_cm = 3.086e+24\n",
    "erg_to_GeV = 624.151\n",
    "\n",
    "\n",
    "# StarFormationHistory (SFR), from Hopkins and Beacom 2006, unit = M_sun/yr/Mpc^3 \n",
    "@np.vectorize\n",
    "def HopkinsBeacom2006StarFormationRate(z):\n",
    "    x = np.log10(1.+z)\n",
    "    if x<0.30963:\n",
    "        return np.power(10,3.28*x-1.82)\n",
    "    if (x>=0.30963)and(x<0.73878):\n",
    "        return np.power(10,-0.26*x-0.724)\n",
    "    if x>=0.73878:\n",
    "        return np.power(10,-8.0*x+4.99)\n",
    "\n",
    "    \n",
    "# Conversion factor b used to convert the source flux into an average number of neutrinos in the detector\n",
    "def calc_conversion_factor(z, Gamma, Phi0): \n",
    "    u_lim=1e9/(1+z) ## upper IceCube range\n",
    "    l_lim=1e2/(1+z) ## lower IceCube range\n",
    "\n",
    "    if Gamma!=2.0:\n",
    "        exponent=(2-Gamma)\n",
    "        nenner=1/exponent*(u_lim**exponent-l_lim**exponent)\n",
    "\n",
    "    else:\n",
    "        nenner=(np.log(u_lim)-np.log(l_lim))\n",
    "        \n",
    "    # NumberofSigEvents(self._Gamma) \n",
    "    # Number of Signal Events for the whole livetime, should be estimated from Phi0, Gamma\n",
    "    nsig = 512    ## Just a Guess for now\n",
    "    return nsig/Phi0*(1/(1e5)**Gamma)*1/(nenner)\n",
    "\n",
    "\n",
    "# Use local source Density to deduce total number of sources in the universe\n",
    "def tot_num_src(redshift_evolution, cosmology, zmax, density):\n",
    "    norm = 4 *np.pi * scipy.integrate.quad(lambda z:  redshift_evolution(z) * \\\n",
    "                                           diff_comoving_volume(z, **cosmology),\n",
    "                                           0, zmax)[0]\n",
    "    area = 4 * np.pi * scipy.integrate.quad(lambda z:  redshift_evolution(z) * \\\n",
    "                                           diff_comoving_volume(z, **cosmology),\n",
    "                                           0, 0.01)[0]\n",
    "    vlocal = comoving_volume(0.01, **cosmology)\n",
    "    vtot = comoving_volume(zmax, **cosmology)\n",
    "    Ntotal = density * vlocal / (area/norm)\n",
    "    return Ntotal, norm\n",
    "\n",
    "\n",
    "# Calculate the number of sources in volume and luminosity interval\n",
    "def calc_dN(LF,logL0,z0, logLbinwidth, zbinwidth, N_tot, int_norm, dgamma=1):\n",
    "    LF_val=LF(z0,logL0)\n",
    "    return (4*np.pi*LF_val*diff_comoving_volume(z0, **cosmology)/int_norm)*logLbinwidth*zbinwidth*dgamma*N_tot"
   ]
  },
  {
   "cell_type": "markdown",
   "metadata": {},
   "source": [
    "# Settings"
   ]
  },
  {
   "cell_type": "code",
   "execution_count": 6,
   "metadata": {},
   "outputs": [],
   "source": [
    "# Physics Settings\n",
    "\n",
    "density = 1*1e-7 ## 1/Mpc^3\n",
    "L_nu = 4*1e50\n",
    "gamma_range = [2.19] # in the original code I also integrated over gamma for some source count distributions, therefore its an array\n",
    "phi0 = 1.01*1e-18\n",
    "\n",
    "cosmology = {'omega_M_0' : 0.308, 'omega_lambda_0' : 0.692, 'h' : 0.678}\n",
    "cosmology = set_omega_k_0(cosmology) #Flat universe\n",
    "\n",
    "### Define the Redshift and Luminosity Evolution\n",
    "\n",
    "redshift_evolution = lambda z: HopkinsBeacom2006StarFormationRate(z)\n",
    "#Luminosity Function\n",
    "LF = lambda z, logL : redshift_evolution(z)*\\\n",
    "                      np.log(10)*10**logL*lognorm.pdf(10**logL, 1, scale = L_nu)"
   ]
  },
  {
   "cell_type": "code",
   "execution_count": 18,
   "metadata": {
    "collapsed": true
   },
   "outputs": [],
   "source": [
    "# Integration Parameters \n",
    "\n",
    "logMu_range = [-10,6]        # expected range in log mu, \n",
    "N_Mu_bins = 2000             # number of bins for log nu histogram\n",
    "\n",
    "z_limits = [0.04, 10.]     # Redshift limits\n",
    "nzbins = 1200               # number of z bins\n",
    "\n",
    "Lum_limits = [1e47,1e54]   # Luminosity limits \n",
    "nLbins = 1200                # number of logLuminosity bins\n",
    "\n",
    "# Example 'Time needed for 600x600 bins: 238s'"
   ]
  },
  {
   "cell_type": "code",
   "execution_count": 19,
   "metadata": {},
   "outputs": [],
   "source": [
    "N_tot, int_norm = tot_num_src(redshift_evolution, cosmology, z_limits[-1], density)"
   ]
  },
  {
   "cell_type": "markdown",
   "metadata": {},
   "source": [
    "# Luminosity Distribution"
   ]
  },
  {
   "cell_type": "code",
   "execution_count": 9,
   "metadata": {
    "scrolled": true
   },
   "outputs": [
    {
     "data": {
      "text/plain": [
       "<matplotlib.figure.Figure at 0x110beb990>"
      ]
     },
     "metadata": {},
     "output_type": "display_data"
    },
    {
     "name": "stderr",
     "output_type": "stream",
     "text": [
      "/usr/local/lib/python2.7/site-packages/matplotlib/figure.py:1743: UserWarning: This figure includes Axes that are not compatible with tight_layout, so its results might be incorrect.\n",
      "  warnings.warn(\"This figure includes Axes that are not \"\n"
     ]
    },
    {
     "data": {
      "image/png": "[encoded data removed]",
      "text/plain": [
       "<matplotlib.figure.Figure at 0x110bebcd0>"
      ]
     },
     "metadata": {},
     "output_type": "display_data"
    }
   ],
   "source": [
    "##use Scipy Lognormal Distribution https://docs.scipy.org/doc/scipy/reference/generated/scipy.stats.lognorm.html\n",
    "\n",
    "fig, ax = newfig(0.9)\n",
    "L = np.linspace(1e48, 1e54, 10000)\n",
    "ax.loglog(L, L*lognorm.pdf(L, 1, scale = L_nu), color = 'blue')\n",
    "ax.set_xlabel('Luminosity [erg/yr]')\n",
    "ax.set_ylabel('Density')\n",
    "plt.grid(True)\n",
    "plt.show()"
   ]
  },
  {
   "cell_type": "markdown",
   "metadata": {},
   "source": [
    "# HopkinsBeacom2006StarFormationRate"
   ]
  },
  {
   "cell_type": "code",
   "execution_count": 11,
   "metadata": {},
   "outputs": [
    {
     "data": {
      "text/plain": [
       "<matplotlib.figure.Figure at 0x110ff3250>"
      ]
     },
     "metadata": {},
     "output_type": "display_data"
    },
    {
     "data": {
      "image/png": "[encoded data removed]",
      "text/plain": [
       "<matplotlib.figure.Figure at 0x110fe9690>"
      ]
     },
     "metadata": {},
     "output_type": "display_data"
    }
   ],
   "source": [
    "plot_bins = 40\n",
    "z = np.linspace(z_limits[0], z_limits[1], plot_bins)\n",
    "dz=(float(z_limits[1])-float(z_limits[0]))/plot_bins\n",
    "fig, ax = newfig(0.9)\n",
    "ax.plot(z, N_tot*4*np.pi*redshift_evolution(z)*diff_comoving_volume(z, **cosmology)/int_norm*dz,\n",
    "        drawstyle='steps-pre')\n",
    "ax.set_xlabel('Redshift z')\n",
    "ax.set_ylabel(r'N$_{Sou}$')  ##Sources per redshift interval\n",
    "plt.grid(True)\n",
    "plt.show()"
   ]
  },
  {
   "cell_type": "markdown",
   "metadata": {},
   "source": [
    "# Comoving Volume"
   ]
  },
  {
   "cell_type": "code",
   "execution_count": 12,
   "metadata": {},
   "outputs": [
    {
     "data": {
      "text/plain": [
       "<matplotlib.figure.Figure at 0x110c03d10>"
      ]
     },
     "metadata": {},
     "output_type": "display_data"
    },
    {
     "data": {
      "image/png": "[encoded data removed]",
      "text/plain": [
       "<matplotlib.figure.Figure at 0x1110cb2d0>"
      ]
     },
     "metadata": {},
     "output_type": "display_data"
    }
   ],
   "source": [
    "fig, ax = newfig(0.9)\n",
    "diff_distance = diff_comoving_volume(z,**cosmology)*4*np.pi/(1000)**3\n",
    "ax.plot(z, diff_distance)\n",
    "plt.grid(True)\n",
    "ax.set_xlabel('Redshift z')\n",
    "ax.set_ylabel('dV$_c$/dz [Gpc$^3$]')\n",
    "ax.set_xlim(z[0])\n",
    "ax.set_ylim(np.min(diff_distance))\n",
    "plt.show()"
   ]
  },
  {
   "cell_type": "markdown",
   "metadata": {},
   "source": [
    "# Luminosity Function 2D Plot"
   ]
  },
  {
   "cell_type": "code",
   "execution_count": 14,
   "metadata": {},
   "outputs": [
    {
     "data": {
      "text/plain": [
       "<matplotlib.figure.Figure at 0x11104f210>"
      ]
     },
     "metadata": {},
     "output_type": "display_data"
    },
    {
     "data": {
      "image/png": "[encoded data removed]",
      "text/plain": [
       "<matplotlib.figure.Figure at 0x1111cdb90>"
      ]
     },
     "metadata": {},
     "output_type": "display_data"
    }
   ],
   "source": [
    "z = np.linspace(0, 10, 100)\n",
    "log10L = np.linspace(47, 53, 100)\n",
    "X,Y = np.meshgrid(z, log10L)\n",
    "\n",
    "plt_func= lambda z,log10L : LF(z, log10L)*diff_comoving_volume(z,**cosmology)/int_norm*N_tot*4*np.pi\n",
    "\n",
    "Z = plt_func(X,Y)\n",
    "\n",
    "fig, ax = newfig(0.9)\n",
    "p = ax.pcolor(X, Y, Z)\n",
    "cb = fig.colorbar(p, label = 'dN$_{Sou}$/(dz$\\cdot$d$\\log_{10}L)$')\n",
    "ax.set_xlabel(r'Redshift z')\n",
    "ax.set_ylabel(r'$\\log_{10}$(L[erg/yr])')\n",
    "plt.show()"
   ]
  },
  {
   "cell_type": "markdown",
   "metadata": {},
   "source": [
    "# Integration Procedure"
   ]
  },
  {
   "cell_type": "code",
   "execution_count": 20,
   "metadata": {},
   "outputs": [
    {
     "name": "stdout",
     "output_type": "stream",
     "text": [
      "Total number of sources 1846031\n",
      "Starting Integration...Going to evaluate 1440000 bins\n",
      "--------------------\n",
      "0%\n",
      "10%\n",
      "20%\n",
      "30%\n",
      "40%\n",
      "50%\n",
      "60%\n",
      "70%\n",
      "80%\n",
      "90%\n",
      "Number of Mu out of Range: 0\n",
      "Num Sou 12588855.4938\n",
      "--------------------\n",
      "\n",
      " Time needed for 1200x1200 bins: 1219s\n"
     ]
    }
   ],
   "source": [
    "flux_mode = False\n",
    "print \"Total number of sources {:.0f} (All-Sky)\".format(N_tot)\n",
    "# Setup Arrays\n",
    "\n",
    "logMu_array=np.linspace(logMu_range[0],logMu_range[1],N_Mu_bins)\n",
    "\n",
    "Flux_from_fixed_z=[]\n",
    "\n",
    "dmu=[(float(10**logMu_array[i+1])-float(10**logMu_array[i])) for i in range(len(logMu_array)-1)]\n",
    "dlogmu=float((logMu_range[1]-logMu_range[0]))/N_Mu_bins\n",
    "\n",
    "zs=np.linspace(z_limits[0],z_limits[1],nzbins)\n",
    "deltaz=(float(z_limits[1])-float(z_limits[0]))/nzbins\n",
    "\n",
    "Ls=np.linspace(np.log10(Lum_limits[0]),np.log10(Lum_limits[1]),nLbins)\n",
    "deltaL=(np.log10(Lum_limits[1])-np.log10(Lum_limits[0]))/nLbins\n",
    "\n",
    "\n",
    "# Integration\n",
    "\n",
    "t0=time.time()\n",
    "if len(gamma_range)==1:\n",
    "    gamma_ran=gamma_range\n",
    "    dgamma=1\n",
    "elif len(gamma_range)==2:\n",
    "    gamma_ran=np.linspace(gamma_range[0],gamma_range[1],ngamma_bins)\n",
    "    dgamma=(gamma_range[1]-gamma_range[0])/ngamma_bins\n",
    "else:\n",
    "    print \"Only 1 or 2 values make sens for the spectral index range of the source\"\n",
    "\n",
    "Count_array=np.zeros(N_Mu_bins)\n",
    "muError=[]\n",
    "tot_bins = nLbins * nzbins\n",
    "print('Starting Integration...Going to evaluate {} bins'.format(tot_bins))\n",
    "N_sum = 0 \n",
    "for gam_c, gam in enumerate(gamma_ran):\n",
    "    Flux_from_fixed_z.append([])\n",
    "    print \"-\"*20\n",
    "    \n",
    "    # Loop over redshift bins\n",
    "    for z_count, z in enumerate(zs):\n",
    "        bz=calc_conversion_factor(z, gam, phi0) # Conversion Factor for given z\n",
    "        dlz=luminosity_distance(z, **cosmology) # Luminosity Distance\n",
    "        tot_flux_from_z=0.\n",
    "        \n",
    "        # Loop over Luminosity bins\n",
    "        for l_count, lum in enumerate(Ls): \n",
    "            run_id = z_count*nLbins+l_count\n",
    "            if run_id%(tot_bins/10)==0.:\n",
    "                print \"{}%\".format(100*run_id/tot_bins)\n",
    "            # Number of Sources in \n",
    "            dN=calc_dN(LF, lum, z, deltaL, deltaz, N_tot, int_norm, dgamma)*\\\n",
    "               (2*np.pi*(1-np.cos(np.radians(95)))) # Last Factor: Only Northern Hemisphere \n",
    "            N_sum += dN\n",
    "            if flux_mode==True: bz=1\n",
    "            #Flux to Source Strength\n",
    "            logmu=np.log10(erg_to_GeV*10**lum/(np.pi*1e7)/(4*np.pi*(Mpc_to_cm*dlz)**2)*bz)\n",
    "            \n",
    "            # Add dN to Histogram\n",
    "            if logmu<logMu_range[1] and logmu>logMu_range[0]:\n",
    "                tot_flux_from_z+=dN*10**logmu\n",
    "                Count_array[int((logmu-logMu_range[0])*N_Mu_bins/(logMu_range[1]-logMu_range[0]))]+=dN\n",
    "            else:\n",
    "                muError.append(logmu)\n",
    "                \n",
    "        Flux_from_fixed_z.append(tot_flux_from_z)\n",
    "\n",
    "\n",
    "print \"Number of Mu out of Range: {}\".format(len(muError))\n",
    "print \"Num Sou {}\".format(N_sum)\n",
    "t1=time.time()\n",
    "\n",
    "print \"-\"*20\n",
    "print \"\\n Time needed for {}x{} bins: {}s\".format(nzbins,\n",
    "                                                  nLbins,\n",
    "                                                  int(t1 - t0))"
   ]
  },
  {
   "cell_type": "markdown",
   "metadata": {},
   "source": [
    "# Plotting"
   ]
  },
  {
   "cell_type": "code",
   "execution_count": 21,
   "metadata": {},
   "outputs": [
    {
     "name": "stdout",
     "output_type": "stream",
     "text": [
      "dN/dmu ~ mu^-2.42117885315 (Expected to be around mu^-2.5 for euclidean universe, i.e. nearby sources)\n"
     ]
    },
    {
     "data": {
      "text/plain": [
       "<matplotlib.figure.Figure at 0x111967790>"
      ]
     },
     "metadata": {},
     "output_type": "display_data"
    },
    {
     "data": {
      "image/png": "[encoded data removed]",
      "text/plain": [
       "<matplotlib.figure.Figure at 0x1111e6710>"
      ]
     },
     "metadata": {},
     "output_type": "display_data"
    }
   ],
   "source": [
    "# Plotting\n",
    "\n",
    "dNdlogmu=np.array(Count_array)/dlogmu\n",
    "fig, ax = newfig(0.9)\n",
    "ax.semilogy(logMu_array, dNdlogmu)\n",
    "\n",
    "##Spline the Histogram\n",
    "spl = UnivariateSpline([s for t,s in enumerate(logMu_array) if dNdlogmu[t]>0],\n",
    "                       [s for s in dNdlogmu if s>0],\n",
    "                       k=1, s=0)\n",
    "\n",
    "# Fit Tail\n",
    "popt, pcov = curve_fit(lambda x,a,b: a*x+b,\n",
    "                       np.linspace(-1,0,100),\n",
    "                       np.log10(spl(np.linspace(-1,0,100))))\n",
    "\n",
    "print('dN/dmu ~ mu^{} (Expected to be around mu^-2.5 for euclidean universe, i.e. nearby sources)'.format(popt[0]-1))\n",
    "\n",
    "ax.semilogy(logMu_array, spl(logMu_array))\n",
    "ax.set_xlabel(r'$\\log_{10}(\\mu)$')\n",
    "ax.set_ylabel(r'dN/d$\\log_{10}(\\mu)$')\n",
    "plt.savefig('Source_Count_Distribution.png', dpi=300)\n",
    "plt.grid(True)\n",
    "plt.show()"
   ]
  },
  {
   "cell_type": "code",
   "execution_count": null,
   "metadata": {
    "collapsed": true
   },
   "outputs": [],
   "source": []
  }
 ],
 "metadata": {
  "kernelspec": {
   "display_name": "Python 2",
   "language": "python",
   "name": "python2"
  },
  "language_info": {
   "codemirror_mode": {
    "name": "ipython",
    "version": 2
   },
   "file_extension": ".py",
   "mimetype": "text/x-python",
   "name": "python",
   "nbconvert_exporter": "python",
   "pygments_lexer": "ipython2",
   "version": "2.7.13"
  }
 },
 "nbformat": 4,
 "nbformat_minor": 2
}
