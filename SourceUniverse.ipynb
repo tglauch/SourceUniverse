{
 "cells": [
  {
   "cell_type": "code",
   "execution_count": 49,
   "metadata": {},
   "outputs": [],
   "source": [
    "%matplotlib inline\n",
    "import numpy as np\n",
    "import cosmolopy\n",
    "from fancy_plot import *\n",
    "import inspect \n",
    "import scipy\n",
    "from scipy.stats import lognorm, norm\n",
    "import time\n",
    "import sys\n",
    "from scipy.interpolate import UnivariateSpline\n",
    "from scipy.optimize import curve_fit\n",
    "\n",
    "\n",
    "# Conversion Factors\n",
    "Mpc_to_cm = 3.086e+24\n",
    "erg_to_GeV = 624.151\n",
    "\n",
    "# StarFormationHistory (SFR), from Hopkins and Beacom 2006, unit = M_sun/yr/Mpc^3 \n",
    "@np.vectorize\n",
    "def HopkinsBeacom2006StarFormationRate(z):\n",
    "    x = np.log10(1.+z)\n",
    "    if x<0.30963:\n",
    "        return np.power(10,3.28*x-1.82)\n",
    "    if (x>=0.30963)and(x<0.73878):\n",
    "        return np.power(10,-0.26*x-0.724)\n",
    "    if x>=0.73878:\n",
    "        return np.power(10,-8.0*x+4.99)\n",
    "\n",
    "# Conversion factor b used to convert the source flux into an average number of neutrinos in the detector\n",
    "def calc_conversion_factor(z, Gamma, Phi0): \n",
    "    \n",
    "    u_lim=1e9/(1+z) ## upper IceCube range\n",
    "    l_lim=1e2/(1+z) ## lower IceCube range\n",
    "\n",
    "    if Gamma!=2.0:\n",
    "        exponent=(2-Gamma)\n",
    "        nenner=1/exponent*(u_lim**exponent-l_lim**exponent)\n",
    "\n",
    "    else:\n",
    "        nenner=(np.log(u_lim)-np.log(l_lim))\n",
    "        \n",
    "    # NumberofSigEvents(self._Gamma) \n",
    "    # Number of Signal Events for the whole livetime, should be estimated from Phi0, Gamma\n",
    "    nsig = 512    ## Just a Guess for now\n",
    "    return nsig/Phi0*(1/(1e5)**Gamma)*1/(nenner)\n",
    "\n",
    "# Calculate the number of sources in volume and luminosity interval\n",
    "def calc_dN(LF,logL,z0, logLbinwidth, zbinwidth, dgamma=1):\n",
    "    LF_val=LF(z0,logL)\n",
    "    return LF_val*cosmolopy.distance.diff_comoving_volume(z,**cosmology)*logLbinwidth*zbinwidth*dgamma\n",
    "\n",
    "Hopkins_norm = scipy.integrate.quad(lambda z: HopkinsBeacom2006StarFormationRate(z), 0, 10)[0]"
   ]
  },
  {
   "cell_type": "markdown",
   "metadata": {},
   "source": [
    "# Settings"
   ]
  },
  {
   "cell_type": "code",
   "execution_count": 28,
   "metadata": {
    "collapsed": true
   },
   "outputs": [],
   "source": [
    "# Physics Settings\n",
    "\n",
    "density = 1*1e-7 ## 1/Mpc^3\n",
    "L_nu = 4*1e50\n",
    "gamma_range = [2.19] # in the original code I also integrated over gamma for some source count distributions, therefore its an array\n",
    "phi0 = 1.01*1e-18\n",
    "\n",
    "cosmology = {'omega_M_0' : 0.308, 'omega_lambda_0' : 0.692, 'h' : 0.678}\n",
    "cosmology = cosmolopy.distance.set_omega_k_0(cosmology) #Flat universe\n",
    "\n",
    "### Define a Luminosity Function\n",
    "LF = lambda z, logL:density*HopkinsBeacom2006StarFormationRate(z)/Hopkins_norm*\\\n",
    "                    np.log(10)*10**logL*lognorm.pdf(10**logL, 1, scale = L_nu)"
   ]
  },
  {
   "cell_type": "code",
   "execution_count": 73,
   "metadata": {
    "collapsed": true
   },
   "outputs": [],
   "source": [
    "# Integration Parameters \n",
    "\n",
    "logMu_range=[-10,6]        # expected range in log mu, \n",
    "N_Mu_bins=2000             # number of bins for log nu histogram\n",
    "\n",
    "z_limits = [0.04, 7.]     # Redshift limits\n",
    "nzbins=600                 # number of z bins\n",
    "\n",
    "Lum_limits = [1e48,1e53]   # Luminosity limits \n",
    "nLbins=600                 # number of logLuminosity bins\n",
    "\n",
    "# Example 'Time needed for 600x600 bins: 238s'"
   ]
  },
  {
   "cell_type": "markdown",
   "metadata": {},
   "source": [
    "# Luminosity Distribution"
   ]
  },
  {
   "cell_type": "code",
   "execution_count": 74,
   "metadata": {
    "scrolled": true
   },
   "outputs": [
    {
     "data": {
      "text/plain": [
       "<matplotlib.figure.Figure at 0x113b6ce50>"
      ]
     },
     "metadata": {},
     "output_type": "display_data"
    },
    {
     "data": {
      "image/png": "[encoded data removed]",
      "text/plain": [
       "<matplotlib.figure.Figure at 0x113b44190>"
      ]
     },
     "metadata": {},
     "output_type": "display_data"
    }
   ],
   "source": [
    "##use Scipy Lognormal Distribution https://docs.scipy.org/doc/scipy/reference/generated/scipy.stats.lognorm.html\n",
    "\n",
    "fig, ax = newfig(0.9)\n",
    "L = np.linspace(1e48, 1e54, 10000)\n",
    "ax.loglog(L, L*lognorm.pdf(L, 1, scale = L_nu), color = 'blue')\n",
    "ax.set_xlabel('Luminosity [erg/yr]')\n",
    "ax.set_ylabel('Density')\n",
    "plt.grid(True)\n",
    "plt.show()"
   ]
  },
  {
   "cell_type": "markdown",
   "metadata": {},
   "source": [
    "# HopkinsBeacom2006StarFormationRate"
   ]
  },
  {
   "cell_type": "code",
   "execution_count": 75,
   "metadata": {},
   "outputs": [
    {
     "data": {
      "text/plain": [
       "<matplotlib.figure.Figure at 0x11385bc50>"
      ]
     },
     "metadata": {},
     "output_type": "display_data"
    },
    {
     "data": {
      "image/png": "[encoded data removed]",
      "text/plain": [
       "<matplotlib.figure.Figure at 0x113c1a210>"
      ]
     },
     "metadata": {},
     "output_type": "display_data"
    }
   ],
   "source": [
    "plot_bins = 100\n",
    "z = np.linspace(z_limits[0], z_limits[1], plot_bins)\n",
    "dz=(float(z_limits[1])-float(z_limits[0]))/plot_bins\n",
    "fig, ax = newfig(0.9)\n",
    "ax.plot(z, density*HopkinsBeacom2006StarFormationRate(z)/Hopkins_norm*\\\n",
    "           cosmolopy.distance.diff_comoving_volume(z,**cosmology)*dz, drawstyle='steps-pre')\n",
    "ax.set_xlabel('Redshift z')\n",
    "ax.set_ylabel(r'N$_{Sou}$')  ##Sources per redshift interval\n",
    "plt.grid(True)\n",
    "plt.show()"
   ]
  },
  {
   "cell_type": "markdown",
   "metadata": {},
   "source": [
    "# Comoving Volume"
   ]
  },
  {
   "cell_type": "code",
   "execution_count": 76,
   "metadata": {},
   "outputs": [
    {
     "data": {
      "text/plain": [
       "<matplotlib.figure.Figure at 0x110691150>"
      ]
     },
     "metadata": {},
     "output_type": "display_data"
    },
    {
     "data": {
      "image/png": "[encoded data removed]",
      "text/plain": [
       "<matplotlib.figure.Figure at 0x114717110>"
      ]
     },
     "metadata": {},
     "output_type": "display_data"
    }
   ],
   "source": [
    "fig, ax = newfig(0.9)\n",
    "diff_distance = cosmolopy.distance.diff_comoving_volume(z,**cosmology)*4*np.pi/(1000)**3\n",
    "ax.plot(z, diff_distance )\n",
    "plt.grid(True)\n",
    "ax.set_xlabel('Redshift z')\n",
    "ax.set_ylabel('dV$_c$/dz [Gpc$^3$]')\n",
    "ax.set_xlim(z[0])\n",
    "ax.set_ylim(np.min(diff_distance))\n",
    "plt.show()"
   ]
  },
  {
   "cell_type": "markdown",
   "metadata": {},
   "source": [
    "# Luminosity Function 2D Plot"
   ]
  },
  {
   "cell_type": "code",
   "execution_count": 77,
   "metadata": {},
   "outputs": [
    {
     "data": {
      "text/plain": [
       "<matplotlib.figure.Figure at 0x1145e2390>"
      ]
     },
     "metadata": {},
     "output_type": "display_data"
    },
    {
     "data": {
      "image/png": "[encoded data removed]",
      "text/plain": [
       "<matplotlib.figure.Figure at 0x1143b6810>"
      ]
     },
     "metadata": {},
     "output_type": "display_data"
    }
   ],
   "source": [
    "z = np.linspace(0, 10, 100)\n",
    "log10L = np.linspace(47, 53, 100)\n",
    "X,Y = np.meshgrid(z, log10L)\n",
    "\n",
    "plt_func= lambda z,log10L : LF(z, log10L)*cosmolopy.distance.diff_comoving_volume(z,**cosmology)\n",
    "Z = plt_func(X,Y)\n",
    "\n",
    "fig, ax = newfig(0.9)\n",
    "p = ax.pcolor(X, Y, Z)\n",
    "cb = fig.colorbar(p, label = 'dN$_{Sou}$/(dz$\\cdot$d$\\log_{10}L)$')\n",
    "ax.set_xlabel(r'Redshift z')\n",
    "ax.set_ylabel(r'$\\log_{10}$(L[erg/yr])')\n",
    "plt.show()"
   ]
  },
  {
   "cell_type": "markdown",
   "metadata": {},
   "source": [
    "# Integration Procedure"
   ]
  },
  {
   "cell_type": "code",
   "execution_count": 78,
   "metadata": {},
   "outputs": [
    {
     "name": "stdout",
     "output_type": "stream",
     "text": [
      "Starting Integration...Going to evaluate 360000 bins\n",
      "--------------------\n",
      "0%\n",
      "10%\n",
      "20%\n",
      "30%\n",
      "40%\n",
      "50%\n",
      "60%\n",
      "70%\n",
      "80%\n",
      "90%\n",
      "Number of Mu out of Range: 0\n",
      "Total number of sources 24440.3845008\n",
      "--------------------\n",
      "\n",
      " Time needed for 600x600 bins: 234s\n"
     ]
    }
   ],
   "source": [
    "flux_mode = False\n",
    "\n",
    "# Setup Arrays\n",
    "\n",
    "logMu_array=np.linspace(logMu_range[0],logMu_range[1],N_Mu_bins)\n",
    "\n",
    "Flux_from_fixed_z=[]\n",
    "\n",
    "dmu=[(float(10**logMu_array[i+1])-float(10**logMu_array[i])) for i in range(len(logMu_array)-1)]\n",
    "dlogmu=float((logMu_range[1]-logMu_range[0]))/N_Mu_bins\n",
    "\n",
    "zs=np.linspace(z_limits[0],z_limits[1],nzbins)\n",
    "deltaz=(float(z_limits[1])-float(z_limits[0]))/nzbins\n",
    "\n",
    "Ls=np.linspace(np.log10(Lum_limits[0]),np.log10(Lum_limits[1]),nLbins)\n",
    "deltaL=(np.log10(Lum_limits[1])-np.log10(Lum_limits[0]))/nLbins\n",
    "\n",
    "\n",
    "# Integration\n",
    "\n",
    "t0=time.time()\n",
    "if len(gamma_range)==1:\n",
    "    gamma_ran=gamma_range\n",
    "    dgamma=1\n",
    "elif len(gamma_range)==2:\n",
    "    gamma_ran=np.linspace(gamma_range[0],gamma_range[1],ngamma_bins)\n",
    "    dgamma=(gamma_range[1]-gamma_range[0])/ngamma_bins\n",
    "else:\n",
    "    print \"Only 1 or 2 values make sens for the spectral index range of the source\"\n",
    "\n",
    "N_Ges=0\n",
    "Count_array=np.zeros(N_Mu_bins)\n",
    "muError=[]\n",
    "tot_bins = nLbins * nzbins\n",
    "print('Starting Integration...Going to evaluate {} bins'.format(tot_bins))\n",
    "for gam_c, gam in enumerate(gamma_ran):\n",
    "    Flux_from_fixed_z.append([])\n",
    "    print \"-\"*20\n",
    "    \n",
    "    # Loop over redshift bins\n",
    "    for z_count, z in enumerate(zs[:-1]):\n",
    "        bz=calc_conversion_factor(z, gam, phi0) # Conversion Factor for given z\n",
    "        dlz=cosmolopy.distance.luminosity_distance(z, **cosmology) # Luminosity Distance\n",
    "        tot_flux_from_z=0.\n",
    "        \n",
    "        # Loop over Luminosity bins\n",
    "        for l_count, lum in enumerate(Ls[:-1]): \n",
    "            run_id = z_count*nLbins+l_count\n",
    "            if run_id%(tot_bins/10)==0.:\n",
    "                print \"{}%\".format(100*run_id/tot_bins)\n",
    "            # Number of Sources in \n",
    "            dN=calc_dN(LF, lum, z, deltaL, deltaz, dgamma)*\\\n",
    "                      (2*np.pi*(1-np.cos(np.radians(95)))) # Last Factor: Only Northern Hemisphere\n",
    "            N_Ges+=dN \n",
    "            if flux_mode==True: bz=1\n",
    "            #Flux to Source Strength\n",
    "            logmu=np.log10(erg_to_GeV*10**lum/(np.pi*1e7)/(4*np.pi*(Mpc_to_cm*dlz)**2)*bz)\n",
    "            \n",
    "            # Add dN to Histogram\n",
    "            if logmu<logMu_range[1] and logmu>logMu_range[0]:\n",
    "                tot_flux_from_z+=dN*10**logmu\n",
    "                Count_array[int((logmu-logMu_range[0])*N_Mu_bins/(logMu_range[1]-logMu_range[0]))]+=dN\n",
    "            else:\n",
    "                muError.append(logmu)\n",
    "                \n",
    "        Flux_from_fixed_z.append(tot_flux_from_z)\n",
    "\n",
    "\n",
    "print \"Number of Mu out of Range: {}\".format(len(muError))\n",
    "print \"Total number of sources {}\".format(N_Ges)\n",
    "\n",
    "t1=time.time()\n",
    "\n",
    "print \"-\"*20\n",
    "print \"\\n Time needed for {}x{} bins: {}s\".format(nzbins,nLbins,int(t1-t0))"
   ]
  },
  {
   "cell_type": "markdown",
   "metadata": {},
   "source": [
    "# Plotting"
   ]
  },
  {
   "cell_type": "code",
   "execution_count": 79,
   "metadata": {},
   "outputs": [
    {
     "name": "stdout",
     "output_type": "stream",
     "text": [
      "dN/dmu ~ mu^-4.17948403708 (Expected to be around mu^-2.5 for euclidean universe, i.e. nearby sources)\n"
     ]
    },
    {
     "data": {
      "text/plain": [
       "<matplotlib.figure.Figure at 0x110691650>"
      ]
     },
     "metadata": {},
     "output_type": "display_data"
    },
    {
     "data": {
      "image/png": "[encoded data removed]",
      "text/plain": [
       "<matplotlib.figure.Figure at 0x114752e90>"
      ]
     },
     "metadata": {},
     "output_type": "display_data"
    }
   ],
   "source": [
    "# Plotting\n",
    "\n",
    "dNdlogmu=np.array(Count_array)/dlogmu\n",
    "fig, ax = newfig(0.9)\n",
    "ax.semilogy(logMu_array, dNdlogmu)\n",
    "\n",
    "##Spline the Histogram\n",
    "spl = UnivariateSpline([s for t,s in enumerate(logMu_array) if dNdlogmu[t]>0],\n",
    "                       [s for s in dNdlogmu if s>0],\n",
    "                       k=1, s=0)\n",
    "\n",
    "# Fit Tail\n",
    "popt, pcov = curve_fit(lambda x,a,b: a*x+b,\n",
    "                       np.linspace(1.5,2.5,100),\n",
    "                       np.log10(spl(np.linspace(1.5,2.5,100))))\n",
    "\n",
    "print('dN/dmu ~ mu^{} (Expected to be around mu^-2.5 for euclidean universe, i.e. nearby sources)'.format(popt[0]-1))\n",
    "\n",
    "ax.semilogy(logMu_array, spl(logMu_array))\n",
    "ax.set_xlabel(r'$\\log_{10}(\\mu)$')\n",
    "ax.set_ylabel(r'dN/d$\\log_{10}(\\mu)$')\n",
    "plt.savefig('Source_Count_Distribution.png', dpi=300)\n",
    "plt.grid(True)\n",
    "plt.show()"
   ]
  },
  {
   "cell_type": "markdown",
   "metadata": {},
   "source": [
    "# Rubbish"
   ]
  },
  {
   "cell_type": "code",
   "execution_count": 44,
   "metadata": {},
   "outputs": [
    {
     "name": "stdout",
     "output_type": "stream",
     "text": [
      "Tot Number of Sources ~ 376977.313062\n"
     ]
    }
   ],
   "source": [
    "n_sou = 4*np.pi* \\\n",
    "        scipy.integrate.quad(lambda z: cosmolopy.distance.diff_comoving_volume(z, **cosmology), 0, 10)[0]*\\\n",
    "        density\n",
    "print 'Tot Number of Sources ~ {}'.format(n_sou)"
   ]
  },
  {
   "cell_type": "code",
   "execution_count": null,
   "metadata": {
    "collapsed": true
   },
   "outputs": [],
   "source": []
  }
 ],
 "metadata": {
  "kernelspec": {
   "display_name": "Python 2",
   "language": "python",
   "name": "python2"
  },
  "language_info": {
   "codemirror_mode": {
    "name": "ipython",
    "version": 2
   },
   "file_extension": ".py",
   "mimetype": "text/x-python",
   "name": "python",
   "nbconvert_exporter": "python",
   "pygments_lexer": "ipython2",
   "version": "2.7.13"
  }
 },
 "nbformat": 4,
 "nbformat_minor": 2
}
