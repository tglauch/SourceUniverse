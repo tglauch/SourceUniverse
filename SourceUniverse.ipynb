{
 "cells": [
  {
   "cell_type": "code",
   "execution_count": 4,
   "metadata": {},
   "outputs": [],
   "source": [
    "%matplotlib inline\n",
    "import numpy as np\n",
    "import cosmolopy\n",
    "from fancy_plot import *\n",
    "import inspect \n",
    "import scipy\n",
    "from scipy.stats import lognorm, norm\n",
    "import time\n",
    "import sys\n",
    "from scipy.interpolate import UnivariateSpline\n",
    "from scipy.optimize import curve_fit\n",
    "\n",
    "\n",
    "##Conversion Factors\n",
    "Mpc_to_cm = 3.086e+24\n",
    "erg_to_GeV = 624.151\n",
    "\n",
    "#StarFormationHistory (SFR), from Hopkins and Beacom 2006, unit = M_sun/yr/Mpc^3 \n",
    "@np.vectorize\n",
    "def HopkinsBeacom2006StarFormationRate(z):\n",
    "    x = np.log10(1.+z)\n",
    "    if x<0.30963:\n",
    "        return np.power(10,3.28*x-1.82)\n",
    "    if (x>=0.30963)and(x<0.73878):\n",
    "        return np.power(10,-0.26*x-0.724)\n",
    "    if x>=0.73878:\n",
    "        return np.power(10,-8.0*x+4.99)\n",
    "\n",
    "#Conversion factor b used to convert the source flux into an average number of neutrinos in the detector\n",
    "def calc_conversion_factor(z, Gamma, Phi0): \n",
    "    \n",
    "    u_lim=1e9/(1+z) ## upper IceCube range\n",
    "    l_lim=1e2/(1+z) ## lower IceCube range\n",
    "\n",
    "    if Gamma!=2.0:\n",
    "        exponent=(2-Gamma)\n",
    "        nenner=1/exponent*(u_lim**exponent-l_lim**exponent)\n",
    "\n",
    "    else:\n",
    "        nenner=(np.log(u_lim)-np.log(l_lim))\n",
    "        \n",
    "    # NumberofSigEvents(self._Gamma) \n",
    "    # Number of Signal Events for the whole livetime, should be estimated from Phi0, Gamma\n",
    "    nsig = 512    ## Just a Guess for now\n",
    "    return nsig/Phi0*(1/(1e5)**Gamma)*1/(nenner)\n",
    "\n",
    "def calc_dN(LF,logL,z0, logLbinwidth, zbinwidth, dgamma=1):\n",
    "    LF_val=LF(z0,logL)\n",
    "    return LF_val*cosmolopy.distance.diff_comoving_volume(z,**cosmology)*logLbinwidth*zbinwidth*dgamma\n",
    "\n",
    "Hopkins_norm = scipy.integrate.quad(lambda z: HopkinsBeacom2006StarFormationRate(z), 0, 10)[0]"
   ]
  },
  {
   "cell_type": "markdown",
   "metadata": {},
   "source": [
    "# Settings"
   ]
  },
  {
   "cell_type": "code",
   "execution_count": 5,
   "metadata": {
    "collapsed": true
   },
   "outputs": [],
   "source": [
    "# Physics Settings\n",
    "\n",
    "density = 1*1e-7 ## 1/Mpc^3\n",
    "L_nu = 4*1e50\n",
    "gamma_range = [2.19] # in the original code I also integrated over gamma for some source count distributions, therefore its an array\n",
    "phi0 = 1.01*1e-18\n",
    "\n",
    "cosmology = {'omega_M_0' : 0.308, 'omega_lambda_0' : 0.692, 'h' : 0.678}\n",
    "cosmology = cosmolopy.distance.set_omega_k_0(cosmology) #Flat universe\n",
    "\n",
    "### Define a Luminosity Function\n",
    "LF = lambda z, logL:density*HopkinsBeacom2006StarFormationRate(z)/Hopkins_norm*\\\n",
    "                    np.log(10)*10**logL*lognorm.pdf(10**logL, 1, scale = L_nu)"
   ]
  },
  {
   "cell_type": "code",
   "execution_count": 6,
   "metadata": {
    "collapsed": true
   },
   "outputs": [],
   "source": [
    "# Integration Parameters \n",
    "\n",
    "logMu_range=[-10,6]        # expected range in log mu, \n",
    "N_Mu_bins=2000             # number of bins for log nu histogram\n",
    "\n",
    "z_limits = [0.001, 6.]     # Redshift limits\n",
    "nzbins=2000                 # number of z bins\n",
    "\n",
    "Lum_limits = [1e47,1e55]   # Luminosity limits \n",
    "nLbins=2000                 # number of logLuminosity bins\n",
    "\n",
    "# Example 'Time needed for 600x600 bins: 238s'"
   ]
  },
  {
   "cell_type": "markdown",
   "metadata": {},
   "source": [
    "# Luminosity Distribution"
   ]
  },
  {
   "cell_type": "code",
   "execution_count": 7,
   "metadata": {},
   "outputs": [
    {
     "data": {
      "text/plain": [
       "<matplotlib.figure.Figure at 0x10f881310>"
      ]
     },
     "metadata": {},
     "output_type": "display_data"
    },
    {
     "name": "stderr",
     "output_type": "stream",
     "text": [
      "/usr/local/lib/python2.7/site-packages/matplotlib/figure.py:1743: UserWarning: This figure includes Axes that are not compatible with tight_layout, so its results might be incorrect.\n",
      "  warnings.warn(\"This figure includes Axes that are not \"\n"
     ]
    },
    {
     "data": {
      "image/png": "[encoded data removed]",
      "text/plain": [
       "<matplotlib.figure.Figure at 0x10f633090>"
      ]
     },
     "metadata": {},
     "output_type": "display_data"
    }
   ],
   "source": [
    "##use Scipy Lognormal Distribution https://docs.scipy.org/doc/scipy/reference/generated/scipy.stats.lognorm.html\n",
    "\n",
    "fig, ax = newfig(0.9)\n",
    "L = np.linspace(1e48, 1e54, 10000)\n",
    "ax.loglog(L, L*lognorm.pdf(L, 1, scale = L_nu), color = 'blue')\n",
    "ax.set_xlabel('Luminosity [erg/yr]')\n",
    "ax.set_ylabel('Density')\n",
    "plt.grid(True)\n",
    "plt.show()"
   ]
  },
  {
   "cell_type": "markdown",
   "metadata": {},
   "source": [
    "# HopkinsBeacom2006StarFormationRate"
   ]
  },
  {
   "cell_type": "code",
   "execution_count": 11,
   "metadata": {},
   "outputs": [
    {
     "data": {
      "text/plain": [
       "<matplotlib.figure.Figure at 0x112f53ed0>"
      ]
     },
     "metadata": {},
     "output_type": "display_data"
    },
    {
     "data": {
      "image/png": "[encoded data removed]",
      "text/plain": [
       "<matplotlib.figure.Figure at 0x112f53b90>"
      ]
     },
     "metadata": {},
     "output_type": "display_data"
    }
   ],
   "source": [
    "plot_bins = 100\n",
    "z = np.linspace(z_limits[0], z_limits[1], plot_bins)\n",
    "dz=(float(z_limits[1])-float(z_limits[0]))/plot_bins\n",
    "fig, ax = newfig(0.9)\n",
    "ax.plot(z, density*HopkinsBeacom2006StarFormationRate(z)/Hopkins_norm*\\\n",
    "           cosmolopy.distance.diff_comoving_volume(z,**cosmology)*dz, drawstyle='steps-pre')\n",
    "ax.set_xlabel('Redshift z')\n",
    "ax.set_ylabel(r'N$_{Sou}$')  ##Sources per redshift interval\n",
    "plt.grid(True)\n",
    "plt.show()"
   ]
  },
  {
   "cell_type": "markdown",
   "metadata": {},
   "source": [
    "# Luminosity Function 2D Plot"
   ]
  },
  {
   "cell_type": "code",
   "execution_count": 97,
   "metadata": {},
   "outputs": [
    {
     "data": {
      "text/plain": [
       "<matplotlib.figure.Figure at 0x11502f510>"
      ]
     },
     "metadata": {},
     "output_type": "display_data"
    },
    {
     "data": {
      "image/png": "[encoded data removed]",
      "text/plain": [
       "<matplotlib.figure.Figure at 0x115079cd0>"
      ]
     },
     "metadata": {},
     "output_type": "display_data"
    }
   ],
   "source": [
    "z = np.linspace(0, 10, 100)\n",
    "log10L = np.linspace(47, 53, 100)\n",
    "X,Y = np.meshgrid(z, log10L)\n",
    "\n",
    "plt_func= lambda z,log10L : LF(z, log10L)*cosmolopy.distance.diff_comoving_volume(z,**cosmology)\n",
    "Z = plt_func(X,Y)\n",
    "\n",
    "fig, ax = newfig(0.9)\n",
    "p = ax.pcolor(X, Y, Z)\n",
    "cb = fig.colorbar(p, label = 'dN$_{Sou}$/(dz$\\cdot$d$\\log_{10}L)$')\n",
    "ax.set_xlabel(r'Redshift z')\n",
    "ax.set_ylabel(r'$\\log_{10}$(L[erg/yr])')\n",
    "plt.show()"
   ]
  },
  {
   "cell_type": "markdown",
   "metadata": {},
   "source": [
    "# Integration Procedure"
   ]
  },
  {
   "cell_type": "code",
   "execution_count": 141,
   "metadata": {},
   "outputs": [
    {
     "name": "stdout",
     "output_type": "stream",
     "text": [
      "--------------------\n",
      "Number of Mu out of Range: 1163\n",
      "Total number of sources 24172.1821365\n",
      "--------------------\n",
      "\n",
      " Time needed for 2000x2000 bins: 2064s\n"
     ]
    }
   ],
   "source": [
    "flux_mode == False\n",
    "\n",
    "####### Setup  arrays ########\n",
    "\n",
    "logMu_array=np.linspace(logMu_range[0],logMu_range[1],N_Mu_bins)\n",
    "\n",
    "Flux_from_fixed_z=[]\n",
    "\n",
    "dmu=[(float(10**logMu_array[i+1])-float(10**logMu_array[i])) for i in range(len(logMu_array)-1)]\n",
    "dlogmu=float((logMu_range[1]-logMu_range[0]))/N_Mu_bins\n",
    "\n",
    "zs=np.linspace(z_limits[0],z_limits[1],nzbins)\n",
    "deltaz=(float(z_limits[1])-float(z_limits[0]))/nzbins\n",
    "\n",
    "Ls=np.linspace(np.log10(Lum_limits[0]),np.log10(Lum_limits[1]),nLbins)\n",
    "deltaL=(np.log10(Lum_limits[1])-np.log10(Lum_limits[0]))/nLbins\n",
    "\n",
    "#########################\n",
    "\n",
    "\n",
    "t0=time.time()\n",
    "if len(gamma_range)==1:\n",
    "    gamma_ran=gamma_range\n",
    "    dgamma=1\n",
    "elif len(gamma_range)==2:\n",
    "    gamma_ran=np.linspace(gamma_range[0],gamma_range[1],ngamma_bins)\n",
    "    dgamma=(gamma_range[1]-gamma_range[0])/ngamma_bins\n",
    "else:\n",
    "    print \"Only 1 or 2 values make sens for the spectral index range of the source\"\n",
    "\n",
    "N_Ges=0\n",
    "Count_array=np.zeros(N_Mu_bins)\n",
    "muError=[]\n",
    "for gam_c, gam in enumerate(gamma_ran):\n",
    "    Flux_from_fixed_z.append([])\n",
    "    print \"-\"*20\n",
    "    for z_count, z in enumerate(zs[:-1]): \n",
    "        bz=calc_conversion_factor(z, gam, phi0) ### b(\\gamma,z) for chosen z=i\n",
    "        dlz=cosmolopy.distance.luminosity_distance(z, **cosmology) ### Luminosity Distance d_L(z) for z=i\n",
    "        tot_flux_from_z=0.\n",
    "        for l_count, lum in enumerate(Ls[:-1]): ### L bin \n",
    "            p=((z_count*nLbins+lum)/(1.0*nzbins*nLbins))\n",
    "            if p%0.05==0.:\n",
    "                print \"{} %\".format(100*p)\n",
    "            dN=calc_dN(LF, lum, z, deltaL, deltaz, dgamma)*(2*np.pi*(1-np.cos(np.radians(95)))) \n",
    "            N_Ges+=dN \n",
    "            if flux_mode==True: bz=1\n",
    "            logmu=np.log10(erg_to_GeV*10**lum/(np.pi*1e7)/(4*np.pi*(Mpc_to_cm*dlz)**2)*bz) #\n",
    "            if logmu<logMu_range[1] and logmu>logMu_range[0]:\n",
    "                tot_flux_from_z+=dN*10**logmu\n",
    "                Count_array[int((logmu-logMu_range[0])*N_Mu_bins/(logMu_range[1]-logMu_range[0]))]+=dN\n",
    "            else:\n",
    "                muError.append(logmu)\n",
    "        Flux_from_fixed_z.append(tot_flux_from_z)\n",
    "\n",
    "\n",
    "print \"Number of Mu out of Range: {}\".format(len(muError))\n",
    "print \"Total number of sources {}\".format(N_Ges)\n",
    "\n",
    "t1=time.time()\n",
    "\n",
    "print \"-\"*20\n",
    "print \"\\n Time needed for {}x{} bins: {}s\".format(nzbins,nLbins,int(t1-t0))"
   ]
  },
  {
   "cell_type": "markdown",
   "metadata": {},
   "source": [
    "# Plotting"
   ]
  },
  {
   "cell_type": "code",
   "execution_count": 143,
   "metadata": {},
   "outputs": [
    {
     "name": "stdout",
     "output_type": "stream",
     "text": [
      "dN/dmu ~ mu^-2.52858011996 (Expected to be around mu^-2.5 for euclidean universe, i.e. nearby sources)\n"
     ]
    },
    {
     "data": {
      "text/plain": [
       "<matplotlib.figure.Figure at 0x1165fee90>"
      ]
     },
     "metadata": {},
     "output_type": "display_data"
    },
    {
     "data": {
      "image/png": "[encoded data removed]",
      "text/plain": [
       "<matplotlib.figure.Figure at 0x1167af110>"
      ]
     },
     "metadata": {},
     "output_type": "display_data"
    }
   ],
   "source": [
    "###########Plotting dN/dmu################\n",
    "dNdlogmu=np.array(Count_array)/dlogmu\n",
    "fig, ax = newfig(0.9)\n",
    "ax.semilogy(logMu_array, dNdlogmu)\n",
    "spl = UnivariateSpline([s for t,s in enumerate(logMu_array) if dNdlogmu[t]>0],\n",
    "                       [s for s in dNdlogmu if s>0],\n",
    "                       k=1, s=0)\n",
    "popt, pcov = curve_fit(lambda x,a,b: a*x+b,\n",
    "                       np.linspace(3,4,100),\n",
    "                       np.log10(spl(np.linspace(3,4,100))))\n",
    "print('dN/dmu ~ mu^{} (Expected to be around mu^-2.5 for euclidean universe, i.e. nearby sources)'.format(popt[0]-1)) \n",
    "ax.semilogy(logMu_array, spl(logMu_array))\n",
    "ax.set_xlabel(r'$\\log_{10}(\\mu)$')\n",
    "ax.set_ylabel(r'dN/d$\\log_{10}(\\mu)$')\n",
    "plt.grid(True)\n",
    "plt.show()"
   ]
  },
  {
   "cell_type": "code",
   "execution_count": null,
   "metadata": {
    "collapsed": true
   },
   "outputs": [],
   "source": []
  },
  {
   "cell_type": "markdown",
   "metadata": {},
   "source": [
    "# Rubbish"
   ]
  },
  {
   "cell_type": "code",
   "execution_count": null,
   "metadata": {
    "collapsed": true
   },
   "outputs": [],
   "source": []
  }
 ],
 "metadata": {
  "kernelspec": {
   "display_name": "Python 2",
   "language": "python",
   "name": "python2"
  },
  "language_info": {
   "codemirror_mode": {
    "name": "ipython",
    "version": 2
   },
   "file_extension": ".py",
   "mimetype": "text/x-python",
   "name": "python",
   "nbconvert_exporter": "python",
   "pygments_lexer": "ipython2",
   "version": "2.7.13"
  }
 },
 "nbformat": 4,
 "nbformat_minor": 2
}
