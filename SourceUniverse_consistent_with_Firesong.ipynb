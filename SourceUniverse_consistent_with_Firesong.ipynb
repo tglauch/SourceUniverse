{
 "metadata": {
  "name": ""
 },
 "nbformat": 3,
 "nbformat_minor": 0,
 "worksheets": [
  {
   "cells": [
    {
     "cell_type": "code",
     "collapsed": false,
     "input": [
      "%matplotlib inline\n",
      "from SourceUniverse_old_ipythonnotebook import calc_pdf, SourceCountDistribution\n",
      "import numpy as np\n",
      "from scipy.interpolate import UnivariateSpline\n",
      "from scipy.optimize import curve_fit\n",
      "from fancy_plot import *"
     ],
     "language": "python",
     "metadata": {},
     "outputs": [
      {
       "output_type": "stream",
       "stream": "stderr",
       "text": [
        "/usr/lib/pymodules/python2.7/matplotlib/__init__.py:1173: UserWarning:  This call to matplotlib.use() has no effect\n",
        "because the backend has already been chosen;\n",
        "matplotlib.use() must be called *before* pylab, matplotlib.pyplot,\n",
        "or matplotlib.backends is imported for the first time.\n",
        "\n",
        "  warnings.warn(_use_error_msg)\n"
       ]
      }
     ],
     "prompt_number": 2
    },
    {
     "cell_type": "code",
     "collapsed": false,
     "input": [
      "flux2mu = 10763342917.859608\n",
      "logMu_array, Count_array, zs, Flux_from_fixed_z = calc_pdf(density=1e-7, L_nu=1e50, sigma=1., gamma=2.0, flux_to_mu=flux2mu)"
     ],
     "language": "python",
     "metadata": {},
     "outputs": [
      {
       "output_type": "stream",
       "stream": "stdout",
       "text": [
        "Total number of sources 1846031 (All-Sky)\n",
        "Starting Integration...Going to evaluate 14400 bins\n",
        "--------------------\n",
        "0%\n",
        "10%"
       ]
      },
      {
       "output_type": "stream",
       "stream": "stdout",
       "text": [
        "\n",
        "20%"
       ]
      },
      {
       "output_type": "stream",
       "stream": "stdout",
       "text": [
        "\n",
        "30%"
       ]
      },
      {
       "output_type": "stream",
       "stream": "stdout",
       "text": [
        "\n",
        "40%"
       ]
      },
      {
       "output_type": "stream",
       "stream": "stdout",
       "text": [
        "\n",
        "50%"
       ]
      },
      {
       "output_type": "stream",
       "stream": "stdout",
       "text": [
        "\n",
        "60%"
       ]
      },
      {
       "output_type": "stream",
       "stream": "stdout",
       "text": [
        "\n",
        "70%"
       ]
      },
      {
       "output_type": "stream",
       "stream": "stdout",
       "text": [
        "\n",
        "80%"
       ]
      },
      {
       "output_type": "stream",
       "stream": "stdout",
       "text": [
        "\n",
        "90%"
       ]
      },
      {
       "output_type": "stream",
       "stream": "stdout",
       "text": [
        "\n",
        "Number of Mu out of Range: 299"
       ]
      },
      {
       "output_type": "stream",
       "stream": "stdout",
       "text": [
        "\n",
        "Num Sou 1815930.05562\n",
        "--------------------\n",
        "\n",
        " Time needed for 120x120 bins: 8s\n"
       ]
      }
     ],
     "prompt_number": 9
    },
    {
     "cell_type": "code",
     "collapsed": false,
     "input": [
      "dlogmu = float((logMu_array[-1]-logMu_array[0]))/len(logMu_array)\n",
      "dNdlogmu=np.array(Count_array)/dlogmu\n",
      "dist = SourceCountDistribution(log10mu=logMu_array, dNdlog10mu=dNdlogmu, density=1*1e-7)"
     ],
     "language": "python",
     "metadata": {},
     "outputs": [],
     "prompt_number": 10
    },
    {
     "cell_type": "code",
     "collapsed": false,
     "input": [
      "data = np.genfromtxt(\"Firesong_HB2006SFR_zmax_10_index_2.0_LF_LG_sigma_1.0_density_1e-7_luminosity_1e50.out\", names=[\"dec\", \"z\", \"flux\"])\n",
      "\n",
      "# Plotting\n",
      "fig, ax = newfig(0.9)\n",
      "ax.semilogy(logMu_array, dNdlogmu)\n",
      "\n",
      "##Spline the Histogram\n",
      "spl = UnivariateSpline([s for t,s in enumerate(logMu_array) if dNdlogmu[t]>0],\n",
      "                       [s for s in dNdlogmu if s>0],\n",
      "                       k=1, s=0)\n",
      "\n",
      "# Fit Tail\n",
      "popt, pcov = curve_fit(lambda x,a,b: a*x+b,\n",
      "                       np.linspace(-1,0,100),\n",
      "                       np.log10(spl(np.linspace(-1,0,100))))\n",
      "\n",
      "print('dN/dmu ~ mu^{} (Expected to be around mu^-2.5 for euclidean universe, i.e. nearby sources)'.format(popt[0]-1))\n",
      "\n",
      "ax.semilogy(logMu_array, spl(logMu_array), label=\"Theo\")\n",
      "binsPerDecade = 10\n",
      "hi, edg = np.histogram(np.log10(data[\"flux\"]*flux2mu), bins=np.linspace(-10,6, binsPerDecade*16+1))\n",
      "ax.plot(edg, np.concatenate([hi*binsPerDecade,[0]]), drawstyle=\"steps-post\", label=\"FIRESONG\")\n",
      "ax.set_xlabel(r'$\\log_{10}(\\mu)$')\n",
      "ax.set_ylabel(r'dN/d$\\log_{10}(\\mu)$')\n",
      "ax.hist(dist.random(1e-7), histtype=\"step\", bins=np.linspace(-10,6, binsPerDecade*16+1), color=\"r\")\n",
      "plt.grid(True)\n",
      "plt.legend()\n",
      "plt.savefig('Source_Count_Distribution.png', dpi=300)\n",
      "plt.show()\n",
      "\n",
      "# Ratio Plot\n",
      "plt.figure()\n",
      "binsPerDecade = 10\n",
      "hi, edg = np.histogram(np.log10(data[\"flux\"]*flux2mu), bins=np.linspace(-10,6, binsPerDecade*16+1))\n",
      "plt.plot(edg, np.concatenate([hi*binsPerDecade/spl((edg[1:]+edg[:-1])/2),[0]]), drawstyle=\"steps-post\")"
     ],
     "language": "python",
     "metadata": {},
     "outputs": [
      {
       "output_type": "stream",
       "stream": "stdout",
       "text": [
        "dN/dmu ~ mu^-2.33976575538 (Expected to be around mu^-2.5 for euclidean universe, i.e. nearby sources)\n"
       ]
      },
      {
       "metadata": {},
       "output_type": "display_data",
       "text": [
        "<matplotlib.figure.Figure at 0x7fe34b486790>"
       ]
      },
      {
       "metadata": {},
       "output_type": "display_data",
       "png": "[encoded data removed]",
       "text": [
        "<matplotlib.figure.Figure at 0x7fe34b49b950>"
       ]
      },
      {
       "metadata": {},
       "output_type": "pyout",
       "prompt_number": 15,
       "text": [
        "[<matplotlib.lines.Line2D at 0x7fe332205710>]"
       ]
      },
      {
       "metadata": {},
       "output_type": "display_data",
       "png": "[encoded data removed]",
       "text": [
        "<matplotlib.figure.Figure at 0x7fe33214dc10>"
       ]
      }
     ],
     "prompt_number": 15
    }
   ],
   "metadata": {}
  }
 ]
}